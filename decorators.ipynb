{
 "cells": [
  {
   "attachments": {},
   "cell_type": "markdown",
   "metadata": {},
   "source": [
    "# decorators\n",
    "* strongly recommend: https://python101.pythonlibrary.org/chapter25_decorators.html  "
   ]
  },
  {
   "attachments": {},
   "cell_type": "markdown",
   "metadata": {},
   "source": [
    "## creating decorators\n",
    "* use: *arg, **kargs!"
   ]
  },
  {
   "cell_type": "code",
   "execution_count": null,
   "metadata": {},
   "outputs": [],
   "source": [
    "import logging\n",
    "\n",
    "def log(func):\n",
    "    \"\"\"\n",
    "    Log what function is called\n",
    "    \"\"\"\n",
    "    def wrap_log(*args, **kwargs):\n",
    "        name = func.__name__\n",
    "        logger = logging.getLogger(name)\n",
    "        logger.setLevel(logging.INFO)\n",
    "\n",
    "        # add file handler\n",
    "        fh = logging.FileHandler(\"%s.log\" % name)\n",
    "        fmt = '%(asctime)s - %(name)s - %(levelname)s - %(message)s'\n",
    "        formatter = logging.Formatter(fmt)\n",
    "        fh.setFormatter(formatter)\n",
    "        logger.addHandler(fh)\n",
    "\n",
    "        logger.info(\"Running function: %s\" % name)\n",
    "        result = func(*args, **kwargs)\n",
    "        logger.info(\"Result: %s\" % result)\n",
    "        return func\n",
    "    return wrap_log\n",
    "\n",
    "@log\n",
    "def double_function(a):\n",
    "    \"\"\"\n",
    "    Double the input parameter\n",
    "    \"\"\"\n",
    "    return a*2\n",
    "\n",
    "if __name__ == \"__main__\":\n",
    "    value = double_function(2)"
   ]
  },
  {
   "attachments": {},
   "cell_type": "markdown",
   "metadata": {},
   "source": [
    "## Build-in decorators\n",
    "### @classmethod\n",
    "* the class(cls below) will be pass to parameter will call the function(resemble self in class function)"
   ]
  },
  {
   "cell_type": "code",
   "execution_count": null,
   "metadata": {},
   "outputs": [],
   "source": [
    "class Student:\n",
    "    name = 'unknown' # class attribute\n",
    "    def __init__(self):\n",
    "        self.age = 20  # instance attribute\n",
    "\n",
    "    @classmethod\n",
    "    def tostring(cls, prompt):\n",
    "        print('Student Class Attributes: name=',cls.name,prompt)\n",
    "\n",
    "prompt = \"try classmethod\"\n",
    "Student.tostring(prompt)  #Student Class Attributes: name=unknown"
   ]
  },
  {
   "attachments": {},
   "cell_type": "markdown",
   "metadata": {},
   "source": [
    "### @property\n",
    "* Convert class methods into read-only attributes(but writable after inplement **setter**), call function to calculate the attribute when the attribute is needed"
   ]
  },
  {
   "cell_type": "code",
   "execution_count": 1,
   "metadata": {},
   "outputs": [
    {
     "name": "stdout",
     "output_type": "stream",
     "text": [
      "John Harry\n",
      "Peter Harry\n"
     ]
    }
   ],
   "source": [
    "class Person(object):\n",
    "    \"\"\"\"\"\"\n",
    "\n",
    "    def __init__(self, first_name, last_name):\n",
    "        \"\"\"Constructor\"\"\"\n",
    "        self.first_name = first_name\n",
    "        self.last_name = last_name\n",
    "\n",
    "    @property\n",
    "    def full_name(self):\n",
    "        \"\"\"\n",
    "        Return the full name\n",
    "        \"\"\"\n",
    "        return \"%s %s\" % (self.first_name, self.last_name)\n",
    "    \n",
    "a = Person(\"John\",\"Harry\")\n",
    "print(a.full_name)\n",
    "a.first_name = \"Peter\"\n",
    "print(a.full_name)"
   ]
  },
  {
   "attachments": {},
   "cell_type": "markdown",
   "metadata": {},
   "source": [
    "### @staticmethod"
   ]
  }
 ],
 "metadata": {
  "kernelspec": {
   "display_name": "base",
   "language": "python",
   "name": "python3"
  },
  "language_info": {
   "codemirror_mode": {
    "name": "ipython",
    "version": 3
   },
   "file_extension": ".py",
   "mimetype": "text/x-python",
   "name": "python",
   "nbconvert_exporter": "python",
   "pygments_lexer": "ipython3",
   "version": "3.10.9"
  },
  "orig_nbformat": 4
 },
 "nbformat": 4,
 "nbformat_minor": 2
}
