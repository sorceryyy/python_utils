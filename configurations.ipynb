{
 "cells": [
  {
   "attachments": {},
   "cell_type": "markdown",
   "metadata": {},
   "source": [
    "## argparse"
   ]
  },
  {
   "attachments": {},
   "cell_type": "markdown",
   "metadata": {},
   "source": [
    "* 教程网址：https://docs.python.org/zh-cn/3.7/howto/argparse.html\n",
    "* 手册网址：https://docs.python.org/zh-cn/3.7/library/argparse.html#module-argparse\n",
    "\n",
    "一般会定义一个函数，一般来说会在另一个文件(可以叫arguments.py)中定义"
   ]
  },
  {
   "attachments": {},
   "cell_type": "markdown",
   "metadata": {},
   "source": [
    "### parameter\n",
    "* argparse会把传递给它的选项视为字符串"
   ]
  },
  {
   "cell_type": "code",
   "execution_count": null,
   "metadata": {},
   "outputs": [],
   "source": [
    "import argparse\n",
    "\n",
    "def get_args():\n",
    "    parser = argparse.ArgumentParser(description='RL')\n",
    "    parser.add_argument(\n",
    "        '--env-name', #name of arg\n",
    "        type=str, #the type of input\n",
    "        default='MontezumaRevengeNoFrameskip-v4',\n",
    "        help=\"the name of environment\")\n",
    "    parser.add_argument(\n",
    "        '--num-stacks',\n",
    "        type=int,\n",
    "        default=8)\n",
    "    args = parser.parse_args()\n",
    "    return args"
   ]
  }
 ],
 "metadata": {
  "language_info": {
   "name": "python"
  },
  "orig_nbformat": 4
 },
 "nbformat": 4,
 "nbformat_minor": 2
}
