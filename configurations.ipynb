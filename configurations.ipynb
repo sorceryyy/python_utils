{
 "cells": [
  {
   "attachments": {},
   "cell_type": "markdown",
   "metadata": {},
   "source": [
    "## argparse"
   ]
  },
  {
   "attachments": {},
   "cell_type": "markdown",
   "metadata": {},
   "source": [
    "* 教程网址：https://docs.python.org/zh-cn/3.7/howto/argparse.html\n",
    "* 手册网址：https://docs.python.org/zh-cn/3.7/library/argparse.html#module-argparse\n",
    "\n",
    "一般会定义一个函数，一般来说会在另一个文件(可以叫arguments.py)中定义"
   ]
  },
  {
   "attachments": {},
   "cell_type": "markdown",
   "metadata": {},
   "source": [
    "### parameter\n",
    "* argparse会把传递给它的选项视为字符串"
   ]
  },
  {
   "cell_type": "code",
   "execution_count": null,
   "metadata": {},
   "outputs": [],
   "source": [
    "import argparse\n",
    "\n",
    "def get_args():\n",
    "    parser = argparse.ArgumentParser(description='RL')\n",
    "    parser.add_argument(\n",
    "        '--env-name', #name of arg\n",
    "        type=str, #the type of input\n",
    "        default='MontezumaRevengeNoFrameskip-v4',\n",
    "        help=\"the name of environment\")\n",
    "    parser.add_argument(\n",
    "        '--num-stacks',\n",
    "        type=int,\n",
    "        default=8)\n",
    "    args = parser.parse_args()\n",
    "    return args"
   ]
  },
  {
   "attachments": {},
   "cell_type": "markdown",
   "metadata": {},
   "source": [
    "## json\n",
    "### .json 文件结构\n",
    "参考文章：https://docs.fileformat.com/zh/web/json\n",
    "* JSON 数据以 key/value 对形式写入。键和值由中间的冒号(:) 分隔，键在左边，值在右边。不同的键/值对由逗号 (,) 分隔。键是一个用双引号括起来的字符串，例如“name\"。这些值可以是以下类型。\n",
    "    * Number\n",
    "    * string: 由双括号括起来的 Unicode 字符序列\n",
    "    * bool: True or False\n",
    "    * Array:  A list of values surrounded by square brackets, for example: [ \"Apple\", \"Banana\", \"Orange\" ]\n",
    "    * object: A collection of key/value pairs surrounded by curly braces, for example: {\"name\": \"Jack\", \"age\": 30, \"favoriteSport\" : \"Football\"}\n",
    "* JSON objects can also be nested to represent the structure of the data. Given below is an example of a JSON object.\n",
    "   ```json\n",
    "   {\n",
    "      \"name\":\"Jack\",\n",
    "      \"age\":30,\n",
    "      \"contactNumbers\":[\n",
    "         {\n",
    "            \"type\":\"Home\",\n",
    "            \"number\":\"123 123-123\"\n",
    "         },\n",
    "         {\n",
    "            \"type\":\"Office\",\n",
    "            \"number\":\"321 321-321\"\n",
    "         }\n",
    "      ],\n",
    "      \"spouse\":null,\n",
    "      \"favoriteSports\":[\n",
    "         \"Football\",\n",
    "         \"Cricket\"\n",
    "      ]\n",
    "   }\n",
    "   ```"
   ]
  },
  {
   "attachments": {},
   "cell_type": "markdown",
   "metadata": {},
   "source": []
  }
 ],
 "metadata": {
  "language_info": {
   "name": "python"
  },
  "orig_nbformat": 4
 },
 "nbformat": 4,
 "nbformat_minor": 2
}
